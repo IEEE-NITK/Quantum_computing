{
  "nbformat": 4,
  "nbformat_minor": 0,
  "metadata": {
    "colab": {
      "name": "Adjoint differentiation.ipynb",
      "provenance": [],
      "authorship_tag": "ABX9TyPtOx+JDcXgR2BZ6HfsGpxt",
      "include_colab_link": true
    },
    "kernelspec": {
      "name": "python3",
      "display_name": "Python 3"
    },
    "language_info": {
      "name": "python"
    }
  },
  "cells": [
    {
      "cell_type": "markdown",
      "metadata": {
        "id": "view-in-github",
        "colab_type": "text"
      },
      "source": [
        "<a href=\"https://colab.research.google.com/github/IEEE-NITK/Quantum_computing/blob/main/Learning/Sujay/Adjoint_differentiation.ipynb\" target=\"_parent\"><img src=\"https://colab.research.google.com/assets/colab-badge.svg\" alt=\"Open In Colab\"/></a>"
      ]
    },
    {
      "cell_type": "code",
      "execution_count": null,
      "metadata": {
        "id": "LIyd3zo71JEE"
      },
      "outputs": [],
      "source": [
        "\"\"\"\n",
        "Created on 1st February 2022 20:39\n",
        "\n",
        "@author:Sujay Chuttar\n",
        "\n",
        "Performing adjoint differentiation in quantum circuits\n",
        "\"\"\""
      ]
    },
    {
      "cell_type": "code",
      "source": [
        "import pennylane as qml\n",
        "from pennylane import numpy as np"
      ],
      "metadata": {
        "id": "Oq-ZhmLj1hLN"
      },
      "execution_count": 4,
      "outputs": []
    },
    {
      "cell_type": "code",
      "source": [
        "#device to simulate algorithm on\n",
        "dev = qml.device('default.qubit', wires = 2)\n",
        "\n",
        "x = ([0.1, 0.2, 0.3])\n",
        "\n",
        "@qml.qnode(dev, diff_method = 'adjoint')\n",
        "def circuit(a):\n",
        "  qml.RX(a[0], wires = 0)\n",
        "  qml.CNOT(wires = [0, 1])\n",
        "  qml.RY(a[1], wires = 1)\n",
        "  qml.RZ(a[2], wires = 1)\n",
        "  return qml.expval(qml.PauliX(wires = 1))"
      ],
      "metadata": {
        "id": "6mFU_uUh2B-g"
      },
      "execution_count": 6,
      "outputs": []
    },
    {
      "cell_type": "code",
      "source": [
        "n_gates = 4\n",
        "n_params = 3\n",
        "\n",
        "ops = [\n",
        "       qml.RX(x[0], wires = 0),\n",
        "       qml.CNOT(wires = (0, 1)),\n",
        "       qml.RY(x[1], wires = 1),\n",
        "       qml.RZ(x[2], wires = 1)\n",
        "]\n",
        "M = qml.PauliX(wires = 1)"
      ],
      "metadata": {
        "id": "NwGXGF3V3abb"
      },
      "execution_count": 7,
      "outputs": []
    },
    {
      "cell_type": "code",
      "source": [
        "state = dev._create_basis_state(0)\n",
        "\n",
        "for op in ops:\n",
        "  state = dev._apply_operation(state, op)\n",
        "\n",
        "print(state)"
      ],
      "metadata": {
        "colab": {
          "base_uri": "https://localhost:8080/"
        },
        "id": "zyCbr_Ku4o5v",
        "outputId": "0e75e0b1-4ca6-4ff0-d42c-68bde5f1ed36"
      },
      "execution_count": 8,
      "outputs": [
        {
          "output_type": "stream",
          "name": "stdout",
          "text": [
            "[[9.82601808e-01-0.14850574j 9.85890302e-02+0.01490027j]\n",
            " [7.45635195e-04+0.00493356j 7.43148086e-03-0.04917107j]]\n"
          ]
        }
      ]
    },
    {
      "cell_type": "code",
      "source": [
        "bra = dev._apply_operation(state, M)\n",
        "ket = state"
      ],
      "metadata": {
        "id": "TJRld-576Tvw"
      },
      "execution_count": 9,
      "outputs": []
    },
    {
      "cell_type": "code",
      "source": [
        "M_expval = np.vdot(bra, ket)\n",
        "print(\"vdot: \", M_expval)\n",
        "print(\"Qnode: \", circuit(x))"
      ],
      "metadata": {
        "colab": {
          "base_uri": "https://localhost:8080/"
        },
        "id": "Zklib5RS6kg6",
        "outputId": "4dcfc0de-03f2-4c0c-fdf5-a25bdf6ba535"
      },
      "execution_count": 10,
      "outputs": [
        {
          "output_type": "stream",
          "name": "stdout",
          "text": [
            "vdot:  (0.18884787122715618+3.634721684493463e-19j)\n",
            "Qnode:  0.18884787122715618\n"
          ]
        }
      ]
    },
    {
      "cell_type": "code",
      "source": [
        "bra_n = dev._create_basis_state(0)\n",
        "\n",
        "for op in ops:\n",
        "  bra_n = dev._apply_operation(bra_n, op)\n",
        "\n",
        "bra_n = dev._apply_operation(bra_n, M)\n",
        "bra_n = dev._apply_operation(bra_n, ops[-1].inv())\n",
        "\n",
        "ops[-1].inv() #returning the operation to an uninverted state\n",
        "\n",
        "ket_n = dev._create_basis_state(0)\n",
        "\n",
        "for op in ops[:-1]:\n",
        "  ket_n = dev._apply_operation(ket_n, op)\n",
        "\n",
        "M_expval_n = np.vdot(bra_n, ket_n)\n",
        "print(M_expval_n)"
      ],
      "metadata": {
        "colab": {
          "base_uri": "https://localhost:8080/"
        },
        "id": "ndapGnYH7cwF",
        "outputId": "66db9bce-945e-4ed8-fd57-772b9525f541"
      },
      "execution_count": 11,
      "outputs": [
        {
          "output_type": "stream",
          "name": "stdout",
          "text": [
            "(0.18884787122715616+1.9739809094676298e-18j)\n"
          ]
        }
      ]
    },
    {
      "cell_type": "code",
      "source": [
        "#version 2 method\n",
        "bra_n_v2 = dev._apply_operation(state, M)\n",
        "ket_n_v2 = state\n",
        "\n",
        "ops[-1].inv()\n",
        "\n",
        "bra_n_v2 = dev._apply_operation(bra_n_v2, ops[-1])\n",
        "ket_n_v2 = dev._apply_operation(ket_n_v2, ops[-1])\n",
        "\n",
        "M_expval_n_v2 = np.vdot(bra_n_v2, ket_n_v2)\n",
        "print(M_expval_n_v2)"
      ],
      "metadata": {
        "colab": {
          "base_uri": "https://localhost:8080/"
        },
        "id": "J4H2uQHv9h1G",
        "outputId": "f5058deb-3a40-4eef-8cc9-d0e24fd93c06"
      },
      "execution_count": 12,
      "outputs": [
        {
          "output_type": "stream",
          "name": "stdout",
          "text": [
            "(0.18884787122715613+2.9931365520227565e-18j)\n"
          ]
        }
      ]
    },
    {
      "cell_type": "code",
      "source": [
        "#derivative of an operator\n",
        "grad_op0 = qml.operation.operation_derivative(ops[0])\n",
        "print(grad_op0)"
      ],
      "metadata": {
        "id": "N_A10CzilfIa",
        "outputId": "f751dece-e9c5-45ba-b910-53548fdb2d67",
        "colab": {
          "base_uri": "https://localhost:8080/"
        }
      },
      "execution_count": 13,
      "outputs": [
        {
          "output_type": "stream",
          "name": "stdout",
          "text": [
            "[[-0.02498958+0.j          0.        -0.49937513j]\n",
            " [ 0.        -0.49937513j -0.02498958+0.j        ]]\n"
          ]
        }
      ]
    },
    {
      "cell_type": "code",
      "source": [
        "bra = dev._apply_operation(state, M)\n",
        "ket = state\n",
        "\n",
        "grads = []\n",
        "\n",
        "for op in reversed(ops):\n",
        "  op.inv()\n",
        "  ket = dev._apply_operation(ket, op)\n",
        "\n",
        "  #Calculating derivative\n",
        "  if op.num_params != 0:\n",
        "    dU = qml.operation.operation_derivative(op)\n",
        "\n",
        "    bra_temp = dev._apply_unitary(bra, dU, op.wires)\n",
        "\n",
        "    dM = 2 * np.real(np.vdot(bra_temp, ket))\n",
        "    grads.append(dM)\n",
        "\n",
        "  bra = dev._apply_operation(bra, op)\n",
        "  op.inv()\n",
        "\n",
        "#Reverse the order of gradients\n",
        "#Since we calculated them in reverse order\n",
        "grads = grads[::-1]\n",
        "\n",
        "print(\"Our calculation : \", grads)\n",
        "\n",
        "grad_compare = qml.grad(circuit)(x)\n",
        "print(\"comparison : \", grad_compare)"
      ],
      "metadata": {
        "id": "hLsLOzmZl-RB",
        "outputId": "499a3be8-2065-4052-b4f1-b6209cd73cf4",
        "colab": {
          "base_uri": "https://localhost:8080/"
        }
      },
      "execution_count": 14,
      "outputs": [
        {
          "output_type": "stream",
          "name": "stdout",
          "text": [
            "Our calculation :  [-0.018947989233612104, 0.9316157966884513, 0.05841749223216956]\n",
            "comparison :  [array(-0.01894799), array(0.9316158), array(-0.05841749)]\n"
          ]
        },
        {
          "output_type": "stream",
          "name": "stderr",
          "text": [
            "/usr/local/lib/python3.7/dist-packages/pennylane/_grad.py:100: UserWarning: Starting with PennyLane v0.21.0, when using Autograd, inputs have to explicitly specify requires_grad=True (or the argnum argument must be passed) in order for trainable parameters to be identified.\n",
            "  UserWarning,\n"
          ]
        }
      ]
    },
    {
      "cell_type": "code",
      "source": [
        "#Lightning simulator\n",
        "dev_lightning = qml.device('lightning.qubit', wires = 2)\n",
        "\n",
        "@qml.qnode(dev_lightning, diff_method = \"adjoint\")\n",
        "def circuit_adjoint(a):\n",
        "  qml.RX(a[0], wires = 0)\n",
        "  qml.CNOT(wires = (0, 1))\n",
        "  qml.RY(a[1], wires = 1)\n",
        "  qml.RZ(a[2], wires = 1)\n",
        "  return qml.expval(M)\n",
        "\n",
        "qml.grad(circuit_adjoint)(x)"
      ],
      "metadata": {
        "id": "PPcCPs9SpErK",
        "outputId": "2a849c29-1e1b-429d-941b-85e3182c0519",
        "colab": {
          "base_uri": "https://localhost:8080/"
        }
      },
      "execution_count": 15,
      "outputs": [
        {
          "output_type": "stream",
          "name": "stderr",
          "text": [
            "/usr/local/lib/python3.7/dist-packages/pennylane/_grad.py:100: UserWarning: Starting with PennyLane v0.21.0, when using Autograd, inputs have to explicitly specify requires_grad=True (or the argnum argument must be passed) in order for trainable parameters to be identified.\n",
            "  UserWarning,\n"
          ]
        },
        {
          "output_type": "execute_result",
          "data": {
            "text/plain": [
              "[array(-0.01894799), array(0.9316158), array(-0.05841749)]"
            ]
          },
          "metadata": {},
          "execution_count": 15
        }
      ]
    }
  ]
}