{
  "nbformat": 4,
  "nbformat_minor": 0,
  "metadata": {
    "colab": {
      "name": "Adjoint differentiation.ipynb",
      "provenance": [],
      "authorship_tag": "ABX9TyOKDeBF62lCbRTLVKSJcR7d",
      "include_colab_link": true
    },
    "kernelspec": {
      "name": "python3",
      "display_name": "Python 3"
    },
    "language_info": {
      "name": "python"
    }
  },
  "cells": [
    {
      "cell_type": "markdown",
      "metadata": {
        "id": "view-in-github",
        "colab_type": "text"
      },
      "source": [
        "<a href=\"https://colab.research.google.com/github/IEEE-NITK/Quantum_computing/blob/main/Learning/Sujay/Adjoint_differentiation.ipynb\" target=\"_parent\"><img src=\"https://colab.research.google.com/assets/colab-badge.svg\" alt=\"Open In Colab\"/></a>"
      ]
    },
    {
      "cell_type": "code",
      "execution_count": null,
      "metadata": {
        "id": "LIyd3zo71JEE"
      },
      "outputs": [],
      "source": [
        "\"\"\"\n",
        "Created on 1st February 2022 20:39\n",
        "\n",
        "@author:Sujay Chuttar\n",
        "\n",
        "Performing adjoint differentiation in quantum circuits\n",
        "\"\"\""
      ]
    },
    {
      "cell_type": "code",
      "source": [
        "import pennylane as qml\n",
        "from pennylane import numpy as np"
      ],
      "metadata": {
        "id": "Oq-ZhmLj1hLN"
      },
      "execution_count": 4,
      "outputs": []
    },
    {
      "cell_type": "code",
      "source": [
        "#device to simulate algorithm on\n",
        "dev = qml.device('default.qubit', wires = 2)\n",
        "\n",
        "x = ([0.1, 0.2, 0.3])\n",
        "\n",
        "@qml.qnode(dev, diff_method = 'adjoint')\n",
        "def circuit(a):\n",
        "  qml.RX(a[0], wires = 0)\n",
        "  qml.CNOT(wires = [0, 1])\n",
        "  qml.RY(a[1], wires = 1)\n",
        "  qml.RZ(a[2], wires = 1)\n",
        "  return qml.expval(qml.PauliX(wires = 1))"
      ],
      "metadata": {
        "id": "6mFU_uUh2B-g"
      },
      "execution_count": 6,
      "outputs": []
    },
    {
      "cell_type": "code",
      "source": [
        "n_gates = 4\n",
        "n_params = 3\n",
        "\n",
        "ops = [\n",
        "       qml.RX(x[0], wires = 0),\n",
        "       qml.CNOT(wires = (0, 1)),\n",
        "       qml.RY(x[1], wires = 1),\n",
        "       qml.RZ(x[2], wires = 1)\n",
        "]\n",
        "M = qml.PauliX(wires = 1)"
      ],
      "metadata": {
        "id": "NwGXGF3V3abb"
      },
      "execution_count": 8,
      "outputs": []
    },
    {
      "cell_type": "code",
      "source": [
        "state = dev._create_basis_state(0)\n",
        "\n",
        "for op in ops:\n",
        "  state = dev._apply_operation(state, op)\n",
        "\n",
        "print(state)"
      ],
      "metadata": {
        "colab": {
          "base_uri": "https://localhost:8080/"
        },
        "id": "zyCbr_Ku4o5v",
        "outputId": "80c64ad9-2ded-47ed-8953-16574bc5184b"
      },
      "execution_count": 11,
      "outputs": [
        {
          "output_type": "stream",
          "name": "stdout",
          "text": [
            "[[9.82601808e-01-0.14850574j 9.85890302e-02+0.01490027j]\n",
            " [7.45635195e-04+0.00493356j 7.43148086e-03-0.04917107j]]\n"
          ]
        }
      ]
    },
    {
      "cell_type": "code",
      "source": [
        "bra = dev._apply_operation(state, M)\n",
        "ket = state"
      ],
      "metadata": {
        "id": "TJRld-576Tvw"
      },
      "execution_count": 12,
      "outputs": []
    },
    {
      "cell_type": "code",
      "source": [
        "M_expval = np.vdot(bra, ket)\n",
        "print(\"vdot: \", M_expval)\n",
        "print(\"Qnode: \", circuit(x))"
      ],
      "metadata": {
        "colab": {
          "base_uri": "https://localhost:8080/"
        },
        "id": "Zklib5RS6kg6",
        "outputId": "2b0f975d-3f30-45ea-e51f-df72af086534"
      },
      "execution_count": 13,
      "outputs": [
        {
          "output_type": "stream",
          "name": "stdout",
          "text": [
            "vdot:  (0.18884787122715618+3.634721684493463e-19j)\n",
            "Qnode:  0.18884787122715618\n"
          ]
        }
      ]
    },
    {
      "cell_type": "code",
      "source": [
        "bra_n = dev._create_basis_state(0)\n",
        "\n",
        "for op in ops:\n",
        "  bra_n = dev._apply_operation(bra_n, op)\n",
        "\n",
        "bra_n = dev._apply_operation(bra_n, M)\n",
        "bra_n = dev._apply_operation(bra_n, ops[-1].inv())\n",
        "\n",
        "ops[-1].inv() #returning the operation to an uninverted state\n",
        "\n",
        "ket_n = dev._create_basis_state(0)\n",
        "\n",
        "for op in ops[:-1]:\n",
        "  ket_n = dev._apply_operation(ket_n, op)\n",
        "\n",
        "M_expval_n = np.vdot(bra_n, ket_n)\n",
        "print(M_expval_n)"
      ],
      "metadata": {
        "colab": {
          "base_uri": "https://localhost:8080/"
        },
        "id": "ndapGnYH7cwF",
        "outputId": "1e67b5fc-05e2-4d7e-8508-fd5846bb7508"
      },
      "execution_count": 14,
      "outputs": [
        {
          "output_type": "stream",
          "name": "stdout",
          "text": [
            "(0.18884787122715616+1.9739809094676298e-18j)\n"
          ]
        }
      ]
    },
    {
      "cell_type": "code",
      "source": [
        "#version 2 method\n",
        "bra_n_v2 = dev._apply_operation(state, M)\n",
        "ket_n_v2 = state\n",
        "\n",
        "ops[-1].inv()\n",
        "\n",
        "bra_n_v2 = dev._apply_operation(bra_n_v2, ops[-1])\n",
        "ket_n_v2 = dev._apply_operation(ket_n_v2, ops[-1])\n",
        "\n",
        "M_expval_n_v2 = np.vdot(bra_n_v2, ket_n_v2)\n",
        "print(M_expval_n_v2)"
      ],
      "metadata": {
        "colab": {
          "base_uri": "https://localhost:8080/"
        },
        "id": "J4H2uQHv9h1G",
        "outputId": "7e9e2a9e-4190-41f6-afd0-7d0183926a26"
      },
      "execution_count": 15,
      "outputs": [
        {
          "output_type": "stream",
          "name": "stdout",
          "text": [
            "(0.18884787122715613+2.9931365520227565e-18j)\n"
          ]
        }
      ]
    }
  ]
}