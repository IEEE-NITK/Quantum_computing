{
  "nbformat": 4,
  "nbformat_minor": 0,
  "metadata": {
    "colab": {
      "name": "quantum gradients with backpropagation.ipynb",
      "provenance": [],
      "collapsed_sections": [],
      "authorship_tag": "ABX9TyPSqxGqWxswYDAoHG66Nv2v"
    },
    "kernelspec": {
      "name": "python3",
      "display_name": "Python 3"
    },
    "language_info": {
      "name": "python"
    }
  },
  "cells": [
    {
      "cell_type": "code",
      "execution_count": 3,
      "metadata": {
        "id": "5bQz52RzOg5R"
      },
      "outputs": [],
      "source": [
        "#Importing essential libraries \n",
        "import pennylane as qml\n",
        "from pennylane import numpy as np\n",
        "from matplotlib import pyplot as plt"
      ]
    },
    {
      "cell_type": "code",
      "source": [
        "#Set the random seed\n",
        "np.random.seed(42)\n",
        "\n",
        "#Create a quantum device\n",
        "device = qml.device('default.qubit', wires = 3)\n",
        "\n",
        "@qml.qnode(device, diff_method = 'parameter-shift')\n",
        "def circuit(params):\n",
        "  qml.RX(params[0], wires = 0)\n",
        "  qml.RY(params[1], wires = 1)\n",
        "  qml.RZ(params[2], wires = 2)\n",
        "\n",
        "  qml.broadcast(qml.CNOT, wires = [0, 1, 2], pattern = 'ring')\n",
        "\n",
        "  qml.RX(params[3], wires = 0)\n",
        "  qml.RY(params[4], wires = 1)\n",
        "  qml.RZ(params[5], wires = 2)\n",
        "\n",
        "  qml.broadcast(qml.CNOT, wires = [0, 1, 2], pattern = \"ring\")\n",
        "  return qml.expval(qml.PauliY(0) @ qml.PauliZ(2))"
      ],
      "metadata": {
        "id": "uS4i0I69O2F2"
      },
      "execution_count": 6,
      "outputs": []
    },
    {
      "cell_type": "code",
      "source": [
        "#Initial parameters\n",
        "params = np.random.random([6], requires_grad = True)\n",
        "\n",
        "print(\"Parameters:\", params)\n",
        "print(\"Expectation value\", circuit(params))"
      ],
      "metadata": {
        "colab": {
          "base_uri": "https://localhost:8080/"
        },
        "id": "iFK9G5nvOs5M",
        "outputId": "605293f9-1df3-42b5-c068-a89438d11106"
      },
      "execution_count": 9,
      "outputs": [
        {
          "output_type": "stream",
          "name": "stdout",
          "text": [
            "Parameters: [0.05808361 0.86617615 0.60111501 0.70807258 0.02058449 0.96990985]\n",
            "Expectation value -0.014055527571701504\n"
          ]
        }
      ]
    },
    {
      "cell_type": "code",
      "source": [
        "fig, ax = qml.draw_mpl(circuit, decimals = 2)(params)\n",
        "plt.show()"
      ],
      "metadata": {
        "colab": {
          "base_uri": "https://localhost:8080/",
          "height": 319
        },
        "id": "8JKDJaKvSpZW",
        "outputId": "09b0d6aa-6bc8-4699-ab20-4741666e4dcd"
      },
      "execution_count": 10,
      "outputs": [
        {
          "output_type": "display_data",
          "data": {
            "image/png": "[encoded data removed]",
            "text/plain": [
              "<Figure size 792x288 with 1 Axes>"
            ]
          },
          "metadata": {}
        }
      ]
    },
    {
      "cell_type": "code",
      "source": [
        "def parameter_shift_term(qnode, params, i):\n",
        "  shifted = params.copy()\n",
        "  shifted[i] += np.pi/2\n",
        "  forward = qnode(shifted) #forward evaluation\n",
        "\n",
        "  shifted[i] -= np.pi\n",
        "  backward = qnode(shifted) #backward evaluation\n",
        "\n",
        "  return 0.5 * (forward - backward)"
      ],
      "metadata": {
        "id": "_mK0ssPYS-uL"
      },
      "execution_count": 11,
      "outputs": []
    },
    {
      "cell_type": "code",
      "source": [
        "#gradient with respect to the first parameter\n",
        "print(parameter_shift_term(circuit, params, 0))"
      ],
      "metadata": {
        "colab": {
          "base_uri": "https://localhost:8080/"
        },
        "id": "TfofAAzlTzst",
        "outputId": "a286a7ce-fd70-4210-a45b-e7577cc97e40"
      },
      "execution_count": 12,
      "outputs": [
        {
          "output_type": "stream",
          "name": "stdout",
          "text": [
            "-0.011114621351495317\n"
          ]
        }
      ]
    },
    {
      "cell_type": "code",
      "source": [
        "def parameter_shift(qnode, params):\n",
        "  gradient = np.zeros([len(params)])\n",
        "\n",
        "  for i in range(len(params)):\n",
        "    gradient[i] = parameter_shift_term(qnode, params, i)\n",
        "  \n",
        "  return gradient"
      ],
      "metadata": {
        "id": "BnUMlRMuUQql"
      },
      "execution_count": 14,
      "outputs": []
    },
    {
      "cell_type": "code",
      "source": [
        "print(parameter_shift(circuit, params))"
      ],
      "metadata": {
        "colab": {
          "base_uri": "https://localhost:8080/"
        },
        "id": "jIYu1WKwUy2o",
        "outputId": "5eca0281-f07a-4bb7-9fb3-050b7565f0c0"
      },
      "execution_count": 15,
      "outputs": [
        {
          "output_type": "stream",
          "name": "stdout",
          "text": [
            "[-1.11146214e-02 -5.87918653e-04  0.00000000e+00 -1.50168133e-02\n",
            " -6.82724681e-01  0.00000000e+00]\n"
          ]
        }
      ]
    },
    {
      "cell_type": "code",
      "source": [
        "grad_function = qml.grad(circuit)\n",
        "print(grad_function(params)[0])"
      ],
      "metadata": {
        "colab": {
          "base_uri": "https://localhost:8080/"
        },
        "id": "yH3ZcEbmVEea",
        "outputId": "1c47d1f4-6afc-406a-d324-d6324808406c"
      },
      "execution_count": 16,
      "outputs": [
        {
          "output_type": "stream",
          "name": "stdout",
          "text": [
            "-0.011114621351495317\n"
          ]
        }
      ]
    },
    {
      "cell_type": "code",
      "source": [
        "print(qml.gradients.param_shift(circuit)(params))"
      ],
      "metadata": {
        "colab": {
          "base_uri": "https://localhost:8080/"
        },
        "id": "J48t_ggoVVVJ",
        "outputId": "ff822cc6-1553-4d6e-8fbe-2e27d618a57c"
      },
      "execution_count": 17,
      "outputs": [
        {
          "output_type": "stream",
          "name": "stdout",
          "text": [
            "[[-1.11146214e-02 -5.87918653e-04 -5.55111512e-17 -1.50168133e-02\n",
            "  -6.82724681e-01  2.77555756e-17]]\n"
          ]
        }
      ]
    },
    {
      "cell_type": "code",
      "source": [
        "dev = qml.device(\"default.qubit\", wires = 4)\n",
        "\n",
        "@qml.qnode(dev, diff_method = \"parameter-shift\")\n",
        "def circuit(params):\n",
        "  qml.StronglyEntanglingLayers(params , wires = [0, 1, 2, 3])\n",
        "  return qml.expval(qml.PauliZ(0) @ qml.PauliZ(1) @ qml.PauliZ(2) @ qml.PauliZ(3))\n",
        "\n",
        "#initialize circuit parameters\n",
        "param_shape = qml.StronglyEntanglingLayers.shape(n_wires = 4, n_layers = 15)\n",
        "params = np.random.normal(scale = 0.1, size = param_shape, requires_grad = True)\n",
        "print(params.size)\n",
        "print(circuit(params))"
      ],
      "metadata": {
        "colab": {
          "base_uri": "https://localhost:8080/"
        },
        "id": "Be5IFSoXWG8b",
        "outputId": "23cf9767-b78f-4ac4-8a20-37fd8bc5c4af"
      },
      "execution_count": 18,
      "outputs": [
        {
          "output_type": "stream",
          "name": "stdout",
          "text": [
            "180\n",
            "0.9195547012778199\n"
          ]
        }
      ]
    },
    {
      "cell_type": "code",
      "source": [
        "import timeit\n",
        "\n",
        "reps = 3\n",
        "num = 10\n",
        "\n",
        "times = timeit.repeat(\"circuit(params)\", globals = globals(), number = num, repeat = reps)\n",
        "forward_time = min(times)/num\n",
        "\n",
        "print(f\"Forward pass (best of {reps}) : {forward_time} sec per loop\")"
      ],
      "metadata": {
        "colab": {
          "base_uri": "https://localhost:8080/"
        },
        "id": "jwQoSP-1YJOT",
        "outputId": "5d19015c-dfc3-41d2-d19a-780d12fce150"
      },
      "execution_count": 20,
      "outputs": [
        {
          "output_type": "stream",
          "name": "stdout",
          "text": [
            "Forward pass (best of 3) : 0.023837742000023355 sec per loop\n"
          ]
        }
      ]
    },
    {
      "cell_type": "code",
      "source": [
        "#create the gradient function\n",
        "grad_fn = qml.grad(circuit)\n",
        "\n",
        "times = timeit.repeat(\"grad_fn(params)\", globals = globals(), number = num, repeat = reps)\n",
        "backward_time = min(times)/num\n",
        "\n",
        "print(f\"Gradient Computation (best of {reps}) : {backward_time} secs per loop\")"
      ],
      "metadata": {
        "colab": {
          "base_uri": "https://localhost:8080/"
        },
        "id": "SjOpmrf4auWa",
        "outputId": "d25753ac-ae38-49e5-aba4-4158892d3197"
      },
      "execution_count": 21,
      "outputs": [
        {
          "output_type": "stream",
          "name": "stdout",
          "text": [
            "Gradient Computation (best of 3) : 6.912203136400012 secs per loop\n"
          ]
        }
      ]
    }
  ]
}