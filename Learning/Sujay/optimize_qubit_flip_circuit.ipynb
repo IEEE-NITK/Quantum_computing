{
  "nbformat": 4,
  "nbformat_minor": 0,
  "metadata": {
    "colab": {
      "name": "FER.ipynb",
      "provenance": [],
      "collapsed_sections": []
    },
    "kernelspec": {
      "name": "python3",
      "display_name": "Python 3"
    },
    "language_info": {
      "name": "python"
    }
  },
  "cells": [
    {
      "cell_type": "code",
      "execution_count": null,
      "metadata": {
        "id": "k4MEcnUzAElN"
      },
      "outputs": [],
      "source": [
        "#Importing essential libraries\n",
        "import pennylane as qml\n",
        "import pandas as pd\n",
        "import numpy as np\n",
        "from pennylane import numpy as np"
      ]
    },
    {
      "cell_type": "code",
      "source": [
        "dev1 = qml.device('default.qubit', wires = 1)\n",
        "\n",
        "@qml.qnode(dev1)\n",
        "def circuit(params):\n",
        "    qml.RX(params[0], wires = 0)\n",
        "    qml.RY(params[1], wires = 0)\n",
        "    return qml.expval(qml.PauliZ(0))\n",
        "\n",
        "#print(circuit([0.3, 0.7]))\n",
        "\n",
        "dcircuit = qml.grad(circuit, argnum = 0)\n",
        "\n",
        "#print(dcircuit([0.54, 0.12]))\n",
        "\n",
        "def cost(x):\n",
        "  return circuit(x)\n",
        "\n",
        "init_params = np.array([0.011, 0.012], requires_grad = True)\n",
        "#print(cost(init_params))\n",
        "\n",
        "#initialize the optimizer\n",
        "opt = qml.GradientDescentOptimizer(stepsize = 0.4)\n",
        "\n",
        "#set the number of steps\n",
        "steps = 100\n",
        "\n",
        "#set the initial parameter values\n",
        "params = init_params\n",
        "\n",
        "for i in range(steps):\n",
        "  #update the circuit parameters\n",
        "  params = opt.step(cost, params)\n",
        "\n",
        "  if (i + 1)%5 == 0:\n",
        "    print(\"Cost after step {:5d}: {: .7f}\".format(i + 1, cost(params)))\n",
        "\n",
        "print(\"Optimized rotation angles: {}\".format(params))"
      ],
      "metadata": {
        "colab": {
          "base_uri": "https://localhost:8080/"
        },
        "id": "sJw0NhOtC-ME",
        "outputId": "9dd7e173-2d9b-4e0f-8dcc-9840c48dfae6"
      },
      "execution_count": null,
      "outputs": [
        {
          "output_type": "stream",
          "name": "stdout",
          "text": [
            "0.9998675058299389\n",
            "Cost after step     5:  0.9961778\n",
            "Cost after step    10:  0.8974944\n",
            "Cost after step    15:  0.1440490\n",
            "Cost after step    20: -0.1536720\n",
            "Cost after step    25: -0.9152496\n",
            "Cost after step    30: -0.9994046\n",
            "Cost after step    35: -0.9999964\n",
            "Cost after step    40: -1.0000000\n",
            "Cost after step    45: -1.0000000\n",
            "Cost after step    50: -1.0000000\n",
            "Cost after step    55: -1.0000000\n",
            "Cost after step    60: -1.0000000\n",
            "Cost after step    65: -1.0000000\n",
            "Cost after step    70: -1.0000000\n",
            "Cost after step    75: -1.0000000\n",
            "Cost after step    80: -1.0000000\n",
            "Cost after step    85: -1.0000000\n",
            "Cost after step    90: -1.0000000\n",
            "Cost after step    95: -1.0000000\n",
            "Cost after step   100: -1.0000000\n",
            "Optimized rotation angles: [7.15266381e-18 3.14159265e+00]\n"
          ]
        }
      ]
    }
  ]
}