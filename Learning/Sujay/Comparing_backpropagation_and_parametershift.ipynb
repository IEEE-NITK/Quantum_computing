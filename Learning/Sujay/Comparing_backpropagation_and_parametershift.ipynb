{
  "nbformat": 4,
  "nbformat_minor": 0,
  "metadata": {
    "colab": {
      "name": "Calculating quantum gradients using backpropagation.ipynb",
      "provenance": []
    },
    "kernelspec": {
      "name": "python3",
      "display_name": "Python 3"
    },
    "language_info": {
      "name": "python"
    }
  },
  "cells": [
    {
      "cell_type": "code",
      "execution_count": 19,
      "metadata": {
        "colab": {
          "base_uri": "https://localhost:8080/"
        },
        "id": "VHJUm6GRYn07",
        "outputId": "02d4bcb5-4f5b-4cdd-d10a-bb1c0c46c52a"
      },
      "outputs": [
        {
          "output_type": "stream",
          "name": "stdout",
          "text": [
            "0.8655392960005129\n"
          ]
        }
      ],
      "source": [
        "#Importing essential libraries\n",
        "import pennylane as qml\n",
        "from pennylane import numpy as np\n",
        "import matplotlib.pyplot as plt\n",
        "\n",
        "#Initialising device\n",
        "device = qml.device('default.qubit', wires = 4)\n",
        "\n",
        "@qml.qnode(device, diff_method = \"backprop\")\n",
        "def circuit(params):\n",
        "  qml.StronglyEntanglingLayers(params, wires = [0, 1, 2, 3])\n",
        "  return qml.expval(qml.PauliZ(0) @ qml.PauliZ(1) @ qml.PauliZ(2) @ qml.PauliZ(3))\n",
        "\n",
        "#initialize circuit parameters\n",
        "param_shape = qml.StronglyEntanglingLayers.shape(n_wires = 4, n_layers = 15)\n",
        "params = np.random.normal(scale = 0.1, size = param_shape, requires_grad = True)\n",
        "print(circuit(params))"
      ]
    },
    {
      "cell_type": "code",
      "source": [
        "#Calculating time needed to perform a forward pass\n",
        "import timeit\n",
        "\n",
        "reps = 3\n",
        "num = 10\n",
        "\n",
        "times = timeit.repeat(\"circuit(params)\", globals = globals(), number = num, repeat = reps)\n",
        "forward_time = min(times)/num\n",
        "print(f\"Forward pass (best of {reps}) : {forward_time} sec per loop\")"
      ],
      "metadata": {
        "colab": {
          "base_uri": "https://localhost:8080/"
        },
        "id": "6ZkwTU2wbvbL",
        "outputId": "0c1db50f-f627-43e5-8284-0e0a5d47c778"
      },
      "execution_count": 20,
      "outputs": [
        {
          "output_type": "stream",
          "name": "stdout",
          "text": [
            "Forward pass (best of 3) : 0.06910674230000495 sec per loop\n"
          ]
        }
      ]
    },
    {
      "cell_type": "code",
      "source": [
        "#Calculating time needed to perform backpropagation\n",
        "times = timeit.repeat(\"qml.grad(circuit)(params)\", globals = globals(), number = num, repeat = reps)\n",
        "backward_time = min(times)/num\n",
        "print(f\"Backward pass (best of {reps}): {backward_time} per loop\")"
      ],
      "metadata": {
        "colab": {
          "base_uri": "https://localhost:8080/"
        },
        "id": "KS5TRlF1d2Zr",
        "outputId": "6c7aae17-731b-4080-d8db-3237bfa84f59"
      },
      "execution_count": 21,
      "outputs": [
        {
          "output_type": "stream",
          "name": "stdout",
          "text": [
            "Backward pass (best of 3): 0.13262874480001302 per loop\n"
          ]
        }
      ]
    },
    {
      "cell_type": "code",
      "source": [
        "dev = qml.device(\"default.qubit\", wires=4)\n",
        "\n",
        "def circuit(params):\n",
        "    qml.StronglyEntanglingLayers(params, wires=[0, 1, 2, 3])\n",
        "    return qml.expval(qml.PauliZ(0) @ qml.PauliZ(1) @ qml.PauliZ(2) @ qml.PauliZ(3))"
      ],
      "metadata": {
        "id": "3MsiaJSci-WB"
      },
      "execution_count": 30,
      "outputs": []
    },
    {
      "cell_type": "code",
      "source": [
        "reps = 2\n",
        "num = 3\n",
        "\n",
        "forward_shift = []\n",
        "gradient_shift = []\n",
        "forward_backprop = []\n",
        "gradient_backprop = []\n",
        "\n",
        "for depth in range(0, 21):\n",
        "    param_shape = qml.StronglyEntanglingLayers.shape(n_wires=4, n_layers=depth)\n",
        "    params = np.random.normal(scale=0.1, size=param_shape, requires_grad=True)\n",
        "    num_params = params.size\n",
        "\n",
        "    # forward pass timing\n",
        "    # ===================\n",
        "\n",
        "    qnode_shift = qml.QNode(circuit, dev, diff_method=\"parameter-shift\")\n",
        "    qnode_backprop = qml.QNode(circuit, dev, diff_method=\"backprop\")\n",
        "\n",
        "    # parameter-shift\n",
        "    t = timeit.repeat(\"qnode_shift(params)\", globals=globals(), number=num, repeat=reps)\n",
        "    forward_shift.append([num_params, min(t) / num])\n",
        "\n",
        "    # backprop\n",
        "    t = timeit.repeat(\"qnode_backprop(params)\", globals=globals(), number=num, repeat=reps)\n",
        "    forward_backprop.append([num_params, min(t) / num])\n",
        "\n",
        "    if num_params == 0:\n",
        "        continue\n",
        "\n",
        "    # Gradient timing\n",
        "    # ===============\n",
        "\n",
        "    qnode_shift = qml.QNode(circuit, dev, diff_method=\"parameter-shift\")\n",
        "    qnode_backprop = qml.QNode(circuit, dev, diff_method=\"backprop\")\n",
        "\n",
        "    # parameter-shift\n",
        "    t = timeit.repeat(\"qml.grad(qnode_shift)(params)\", globals=globals(), number=num, repeat=reps)\n",
        "    gradient_shift.append([num_params, min(t) / num])\n",
        "\n",
        "    # backprop\n",
        "    t = timeit.repeat(\"qml.grad(qnode_backprop)(params)\", globals=globals(), number=num, repeat=reps)\n",
        "    gradient_backprop.append([num_params, min(t) / num])\n",
        "\n",
        "gradient_shift = np.array(gradient_shift).T\n",
        "gradient_backprop = np.array(gradient_backprop).T\n",
        "forward_shift = np.array(forward_shift).T\n",
        "forward_backprop = np.array(forward_backprop).T"
      ],
      "metadata": {
        "id": "44qnFQKNiel2"
      },
      "execution_count": 29,
      "outputs": []
    },
    {
      "cell_type": "code",
      "source": [
        "#Using matplotlib to plot the results\n",
        "plt.style.use(\"bmh\")\n",
        "\n",
        "fig, ax = plt.subplots(1, 1, figsize = (6, 4))\n",
        "\n",
        "ax.plot(*gradient_shift, '.-', label = \"parameter-shift\")\n",
        "ax.plot(*gradient_backprop, '.-', label = \"backpropagation\")\n",
        "ax.set_xlabel(\"Number of parameters\")\n",
        "ax.set_ylabel(\"Time(s)\")\n",
        "ax.legend()\n",
        "\n",
        "plt.plot()"
      ],
      "metadata": {
        "colab": {
          "base_uri": "https://localhost:8080/",
          "height": 297
        },
        "id": "KYb4FUjecOTQ",
        "outputId": "3a94f676-2cb2-4c21-fefa-ef84b5718945"
      },
      "execution_count": 31,
      "outputs": [
        {
          "output_type": "execute_result",
          "data": {
            "text/plain": [
              "[]"
            ]
          },
          "metadata": {},
          "execution_count": 31
        },
        {
          "output_type": "display_data",
          "data": {
            "image/png": "[encoded data removed]",
            "text/plain": [
              "<Figure size 432x288 with 1 Axes>"
            ]
          },
          "metadata": {
            "needs_background": "light"
          }
        }
      ]
    }
  ]
}