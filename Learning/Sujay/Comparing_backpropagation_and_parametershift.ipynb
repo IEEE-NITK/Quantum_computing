{
  "nbformat": 4,
  "nbformat_minor": 0,
  "metadata": {
    "colab": {
      "name": "Calculating quantum gradients using backpropagation.ipynb",
      "provenance": [],
      "authorship_tag": "ABX9TyOTOOiBMxJOF9gkSjKvgjw7"
    },
    "kernelspec": {
      "name": "python3",
      "display_name": "Python 3"
    },
    "language_info": {
      "name": "python"
    }
  },
  "cells": [
    {
      "cell_type": "code",
      "execution_count": 3,
      "metadata": {
        "colab": {
          "base_uri": "https://localhost:8080/"
        },
        "id": "VHJUm6GRYn07",
        "outputId": "68f9d2be-7eb4-4848-fc10-36c3fa82e00f"
      },
      "outputs": [
        {
          "output_type": "stream",
          "name": "stdout",
          "text": [
            "0.899066051888016\n"
          ]
        }
      ],
      "source": [
        "#Importing essential libraries\n",
        "import pennylane as qml\n",
        "from pennylane import numpy as np\n",
        "\n",
        "#Initialising device\n",
        "device = qml.device('default.qubit', wires = 4)\n",
        "\n",
        "@qml.qnode(device, diff_method = \"backprop\")\n",
        "def circuit(params):\n",
        "  qml.StronglyEntanglingLayers(params, wires = [0, 1, 2, 3])\n",
        "  return qml.expval(qml.PauliZ(0) @ qml.PauliZ(1) @ qml.PauliZ(2) @ qml.PauliZ(3))\n",
        "\n",
        "#initialize circuit parameters\n",
        "param_shape = qml.StronglyEntanglingLayers.shape(n_wires = 4, n_layers = 15)\n",
        "params = np.random.normal(scale = 0.1, size = param_shape, requires_grad = True)\n",
        "print(circuit(params))"
      ]
    },
    {
      "cell_type": "code",
      "source": [
        "#Calculating time needed to perform a forward pass\n",
        "import timeit\n",
        "\n",
        "reps = 3\n",
        "num = 10\n",
        "\n",
        "times = timeit.repeat(\"circuit(params)\", globals = globals(), number = num, repeat = reps)\n",
        "forward_time = min(times)/num\n",
        "print(f\"Forward pass (best of {reps}) : {forward_time} sec per loop\")"
      ],
      "metadata": {
        "colab": {
          "base_uri": "https://localhost:8080/"
        },
        "id": "6ZkwTU2wbvbL",
        "outputId": "2d0ae523-1be0-4276-c511-148a8799d6a7"
      },
      "execution_count": 5,
      "outputs": [
        {
          "output_type": "stream",
          "name": "stdout",
          "text": [
            "Forward pass (best of 3) : 0.07029512450000083 sec per loop\n"
          ]
        }
      ]
    },
    {
      "cell_type": "code",
      "source": [
        "#Calculating time needed to perform backpropagation\n",
        "times = timeit.repeat(\"qml.grad(circuit)(params)\", globals = globals(), number = num, repeat = reps)\n",
        "backward_time = min(times)/num\n",
        "print(f\"Backward pass (best of {reps}): {backward_time} per loop\")"
      ],
      "metadata": {
        "colab": {
          "base_uri": "https://localhost:8080/"
        },
        "id": "KS5TRlF1d2Zr",
        "outputId": "e429f86b-d970-420e-e093-eb723e46a681"
      },
      "execution_count": 6,
      "outputs": [
        {
          "output_type": "stream",
          "name": "stdout",
          "text": [
            "Backward pass (best of 3): 0.1335601462999989 per loop\n"
          ]
        }
      ]
    },
    {
      "cell_type": "code",
      "source": [
        "#Comparing time taken by backpropagation and parameter shift rule\n",
        "\n",
        "reps = 2\n",
        "num = 3\n",
        "\n",
        "forward_shift = []\n",
        "gradient_shift = []\n",
        "forward_backprop = []\n",
        "gradient_backprop = []\n",
        "\n",
        "for depth in range(0, 21):\n",
        "  param_shape = qml.StronlyEntanglingLayers.shape(n_wires = 4, n_layers = depth)\n",
        "  params = np.random.normal(scale = 0.1, size = param_shape, requires_grad = True)\n",
        "  num_params = params.size\n",
        "\n",
        "  # forward pass timing\n",
        "  # ===================\n",
        "\n",
        "  qnode_shift = qml.Qnode(circuit, device, diff_method = \"parameter-shift\")\n",
        "  qnode_backprop = qml.Qnode(circuit, device, diff_method = \"backprop\")\n",
        "\n",
        "  #parameter - shift\n",
        "  t = timeit.repeat(\"qnode_shift(params)\", globals = globals(), number = num, repeat = reps)\n",
        "  forward_shift.append([num_params, min(t)/num])\n",
        "\n",
        "  #backpropagation\n",
        "  t = timeit.repeat(\"qnode_backprop(params)\", globals = globals(), number = num, repeat = reps)\n",
        "  forward_backprop.append([num_params, min(t)/num])\n",
        "\n",
        "  if num_params == 0:\n",
        "    continue\n",
        "\n",
        "  #Gradient timing\n",
        "  # ==================\n",
        "\n",
        "  qnode_shift = qml.qnode(circuit, device, diff_method = \"parameter-shift\")\n",
        "  qnode_backprop = qml.qnode(circuit, device, diff_method = \"backprop\")\n",
        "\n",
        "  #parameter shift\n",
        "  t = timeit.repeat(\"qml.grad(qnode_shift)(params)\", globals = globals(), number = num, repeat = reps)\n",
        "  gradient_shift.append([num_params, min(t)/num])\n",
        "\n",
        "  #backpropagation\n",
        "  t = timeit.repeat(\"qml.grad(qnode_backprop)(params)\", globals = globals(), number = num, repeat = reps)\n",
        "  gradient_backprop.append([num_params, min(t)/num])\n",
        "\n",
        "  gradient_shift = np.array(gradient_shift).T\n",
        "  forward_shift = np.array(forward_shift).T\n",
        "  gradient_backprop = np.array(gradient_backdrop).T\n",
        "  forward_backdrop = np.array(forward_backdrop).T"
      ],
      "metadata": {
        "id": "MTl8g_8YfZsA"
      },
      "execution_count": null,
      "outputs": []
    }
  ]
}