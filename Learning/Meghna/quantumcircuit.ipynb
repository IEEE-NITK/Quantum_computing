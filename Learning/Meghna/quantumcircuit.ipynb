{
 "cells": [
  {
   "cell_type": "markdown",
   "id": "f879e595-9ad3-40e4-8f40-e47d0bbe70c2",
   "metadata": {},
   "source": []
  },
  {
   "cell_type": "code",
   "execution_count": 15,
   "id": "adc31c08-56c6-473c-9f3a-b110464529a3",
   "metadata": {},
   "outputs": [
    {
     "data": {
      "image/png": "[encoded data removed]",
      "text/plain": [
       "<Figure size 327.397x264.88 with 1 Axes>"
      ]
     },
     "execution_count": 15,
     "metadata": {},
     "output_type": "execute_result"
    }
   ],
   "source": [
    "import qiskit as qk\n",
    "import numpy as np\n",
    "from qiskit import QuantumCircuit,transpile,Aer,IBMQ,assemble\n",
    "from qiskit.tools.jupyter import *\n",
    "from qiskit.visualization import plot_histogram\n",
    "from math import pi\n",
    "from qiskit.providers.aer import QasmSimulator\n",
    "from qiskit import QuantumCircuit\n",
    "qc=QuantumCircuit(3,3)\n",
    "qc.h(0)\n",
    "qc.cx(0,1)\n",
    "qc.measure([0,1],[0,1])\n",
    "qc.draw()"
   ]
  },
  {
   "cell_type": "code",
   "execution_count": 16,
   "id": "bc2ea806-c9e3-4aba-896d-27ca823823ae",
   "metadata": {},
   "outputs": [
    {
     "name": "stdout",
     "output_type": "stream",
     "text": [
      "{'000': 2034, '011': 2062}\n"
     ]
    },
    {
     "data": {
      "image/png": "[encoded data removed]",
      "text/plain": [
       "<Figure size 504x360 with 1 Axes>"
      ]
     },
     "execution_count": 16,
     "metadata": {},
     "output_type": "execute_result"
    }
   ],
   "source": [
    "aer_sim=Aer.get_backend('aer_simulator')\n",
    "t_qc=transpile(qc,aer_sim)\n",
    "qobj=assemble(t_qc,shots=4096)\n",
    "result=aer_sim.run(qobj).result()\n",
    "counts=result.get_counts(qc)\n",
    "print(counts)\n",
    "plot_histogram(counts)"
   ]
  },
  {
   "cell_type": "code",
   "execution_count": null,
   "id": "34fb2ba0-1a85-4c1f-a010-c64e25ed3658",
   "metadata": {},
   "outputs": [],
   "source": []
  },
  {
   "cell_type": "code",
   "execution_count": null,
   "id": "686c4481-c393-4e12-978d-e3bbb1df655c",
   "metadata": {},
   "outputs": [],
   "source": []
  }
 ],
 "metadata": {
  "kernelspec": {
   "display_name": "Qiskit v0.34.1 (ipykernel)",
   "language": "python",
   "name": "python3"
  },
  "language_info": {
   "codemirror_mode": {
    "name": "ipython",
    "version": 3
   },
   "file_extension": ".py",
   "mimetype": "text/x-python",
   "name": "python",
   "nbconvert_exporter": "python",
   "pygments_lexer": "ipython3",
   "version": "3.8.12"
  },
  "widgets": {
   "application/vnd.jupyter.widget-state+json": {
    "state": {
     "18986095fd6549549a9e1f26af422fd6": {
      "model_module": "@jupyter-widgets/controls",
      "model_module_version": "1.5.0",
      "model_name": "DescriptionStyleModel",
      "state": {
       "description_width": ""
      }
     },
     "26aef7036cf440ed91c4ddeff0236151": {
      "model_module": "@jupyter-widgets/controls",
      "model_module_version": "1.5.0",
      "model_name": "DescriptionStyleModel",
      "state": {
       "description_width": ""
      }
     },
     "322fffd54b444e63a8ff40f5e6aac564": {
      "model_module": "@jupyter-widgets/controls",
      "model_module_version": "1.5.0",
      "model_name": "HTMLModel",
      "state": {
       "layout": "IPY_MODEL_3b670bee39aa43618cfae530552bc0ec",
       "style": "IPY_MODEL_de8f75ce69294848b541d7da9ad47579",
       "value": "<p style='font-family: IBM Plex Sans, Arial, Helvetica, sans-serif; font-size: 20px; font-weight: medium;'>Circuit Properties</p>"
      }
     },
     "3785d8482ca94815b6ca1f32b92c0055": {
      "model_module": "@jupyter-widgets/controls",
      "model_module_version": "1.5.0",
      "model_name": "HTMLModel",
      "state": {
       "layout": "IPY_MODEL_9dbca53c853048a8be298f03ee52b257",
       "style": "IPY_MODEL_6d698270674c40e98b9a3594acdf995c",
       "value": "<h5>Status</h5>"
      }
     },
     "3b670bee39aa43618cfae530552bc0ec": {
      "model_module": "@jupyter-widgets/base",
      "model_module_version": "1.2.0",
      "model_name": "LayoutModel",
      "state": {
       "margin": "0px 0px 10px 0px"
      }
     },
     "3e150edd7bf042b4bfadadf43f6f794e": {
      "model_module": "@jupyter-widgets/base",
      "model_module_version": "1.2.0",
      "model_name": "LayoutModel",
      "state": {
       "grid_template_areas": "\n                                       \". . . . right \"\n                                        ",
       "grid_template_columns": "20% 20% 20% 20% 20%",
       "width": "100%"
      }
     },
     "3f18451f6185493cac3d76ee76959eaa": {
      "model_module": "@jupyter-widgets/controls",
      "model_module_version": "1.5.0",
      "model_name": "HTMLModel",
      "state": {
       "layout": "IPY_MODEL_73c56e583f4d4035b5073863be9b7cf1",
       "style": "IPY_MODEL_26aef7036cf440ed91c4ddeff0236151",
       "value": "<h5>Job ID</h5>"
      }
     },
     "437094965db444378d68210471171ac3": {
      "model_module": "@jupyter-widgets/controls",
      "model_module_version": "1.5.0",
      "model_name": "DescriptionStyleModel",
      "state": {
       "description_width": ""
      }
     },
     "53d9d1517a64483d8e2f707b13fae6c4": {
      "model_module": "@jupyter-widgets/controls",
      "model_module_version": "1.5.0",
      "model_name": "HBoxModel",
      "state": {
       "children": [
        "IPY_MODEL_3f18451f6185493cac3d76ee76959eaa",
        "IPY_MODEL_85c202f7ae0c4afe85cb438a4233be05",
        "IPY_MODEL_3785d8482ca94815b6ca1f32b92c0055",
        "IPY_MODEL_b66eb115deb2447ca2082602c646bcf6",
        "IPY_MODEL_feab402385b34bd0a87d28a93087ca9c"
       ],
       "layout": "IPY_MODEL_b2b77f415dc74f7b8cc65759205f89ec"
      }
     },
     "58292062d5df4da7b17bb1463083cd31": {
      "model_module": "@jupyter-widgets/base",
      "model_module_version": "1.2.0",
      "model_name": "LayoutModel",
      "state": {}
     },
     "616554b1751f4ffd8aff9b55537497e1": {
      "model_module": "@jupyter-widgets/base",
      "model_module_version": "1.2.0",
      "model_name": "LayoutModel",
      "state": {
       "width": "145px"
      }
     },
     "6d698270674c40e98b9a3594acdf995c": {
      "model_module": "@jupyter-widgets/controls",
      "model_module_version": "1.5.0",
      "model_name": "DescriptionStyleModel",
      "state": {
       "description_width": ""
      }
     },
     "73c56e583f4d4035b5073863be9b7cf1": {
      "model_module": "@jupyter-widgets/base",
      "model_module_version": "1.2.0",
      "model_name": "LayoutModel",
      "state": {
       "width": "190px"
      }
     },
     "85c202f7ae0c4afe85cb438a4233be05": {
      "model_module": "@jupyter-widgets/controls",
      "model_module_version": "1.5.0",
      "model_name": "HTMLModel",
      "state": {
       "layout": "IPY_MODEL_616554b1751f4ffd8aff9b55537497e1",
       "style": "IPY_MODEL_bafa7ddb262f407896fee8ac75a30442",
       "value": "<h5>Backend</h5>"
      }
     },
     "938e18cf93a14e7d8d6b7f293302e28f": {
      "model_module": "@jupyter-widgets/controls",
      "model_module_version": "1.5.0",
      "model_name": "ButtonStyleModel",
      "state": {}
     },
     "9dbca53c853048a8be298f03ee52b257": {
      "model_module": "@jupyter-widgets/base",
      "model_module_version": "1.2.0",
      "model_name": "LayoutModel",
      "state": {
       "width": "95px"
      }
     },
     "a98950017f95497ba8679e59dabb7ead": {
      "model_module": "@jupyter-widgets/controls",
      "model_module_version": "1.5.0",
      "model_name": "ButtonModel",
      "state": {
       "button_style": "primary",
       "description": "Clear",
       "layout": "IPY_MODEL_f4e7b5148ea64c18b340ee20da7d192a",
       "style": "IPY_MODEL_938e18cf93a14e7d8d6b7f293302e28f"
      }
     },
     "b2b77f415dc74f7b8cc65759205f89ec": {
      "model_module": "@jupyter-widgets/base",
      "model_module_version": "1.2.0",
      "model_name": "LayoutModel",
      "state": {
       "margin": "0px 0px 0px 37px",
       "width": "600px"
      }
     },
     "b2c30d3719d84541ad14daec85054af5": {
      "model_module": "@jupyter-widgets/base",
      "model_module_version": "1.2.0",
      "model_name": "LayoutModel",
      "state": {
       "width": "70px"
      }
     },
     "b66eb115deb2447ca2082602c646bcf6": {
      "model_module": "@jupyter-widgets/controls",
      "model_module_version": "1.5.0",
      "model_name": "HTMLModel",
      "state": {
       "layout": "IPY_MODEL_b2c30d3719d84541ad14daec85054af5",
       "style": "IPY_MODEL_437094965db444378d68210471171ac3",
       "value": "<h5>Queue</h5>"
      }
     },
     "bafa7ddb262f407896fee8ac75a30442": {
      "model_module": "@jupyter-widgets/controls",
      "model_module_version": "1.5.0",
      "model_name": "DescriptionStyleModel",
      "state": {
       "description_width": ""
      }
     },
     "de8f75ce69294848b541d7da9ad47579": {
      "model_module": "@jupyter-widgets/controls",
      "model_module_version": "1.5.0",
      "model_name": "DescriptionStyleModel",
      "state": {
       "description_width": ""
      }
     },
     "f4e7b5148ea64c18b340ee20da7d192a": {
      "model_module": "@jupyter-widgets/base",
      "model_module_version": "1.2.0",
      "model_name": "LayoutModel",
      "state": {
       "grid_area": "right",
       "padding": "0px 0px 0px 0px",
       "width": "70px"
      }
     },
     "fad933c38c804774898511adc592f3f9": {
      "model_module": "@jupyter-widgets/controls",
      "model_module_version": "1.5.0",
      "model_name": "GridBoxModel",
      "state": {
       "children": [
        "IPY_MODEL_a98950017f95497ba8679e59dabb7ead"
       ],
       "layout": "IPY_MODEL_3e150edd7bf042b4bfadadf43f6f794e"
      }
     },
     "feab402385b34bd0a87d28a93087ca9c": {
      "model_module": "@jupyter-widgets/controls",
      "model_module_version": "1.5.0",
      "model_name": "HTMLModel",
      "state": {
       "layout": "IPY_MODEL_58292062d5df4da7b17bb1463083cd31",
       "style": "IPY_MODEL_18986095fd6549549a9e1f26af422fd6",
       "value": "<h5>Message</h5>"
      }
     }
    },
    "version_major": 2,
    "version_minor": 0
   }
  }
 },
 "nbformat": 4,
 "nbformat_minor": 5
}
