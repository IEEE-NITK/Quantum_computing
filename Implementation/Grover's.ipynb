{
  "nbformat": 4,
  "nbformat_minor": 0,
  "metadata": {
    "colab": {
      "name": "Grover's.ipynb",
      "provenance": [],
      "collapsed_sections": []
    },
    "kernelspec": {
      "name": "python3",
      "display_name": "Python 3"
    },
    "language_info": {
      "name": "python"
    }
  },
  "cells": [
    {
      "cell_type": "code",
      "execution_count": 2,
      "metadata": {
        "id": "JW1eHCTxgy5O",
        "colab": {
          "base_uri": "https://localhost:8080/",
          "height": 35
        },
        "outputId": "786505c2-7523-4b13-986b-577146212b60"
      },
      "outputs": [
        {
          "output_type": "execute_result",
          "data": {
            "text/plain": [
              "\"\\nAn implementation of the Grover's algorithm \\n\\nFinds the state <11|\\n\""
            ],
            "application/vnd.google.colaboratory.intrinsic+json": {
              "type": "string"
            }
          },
          "metadata": {},
          "execution_count": 2
        }
      ],
      "source": [
        "\"\"\"\n",
        "An implementation of the Grover's algorithm \n",
        "\n",
        "Finds the state <11|\n",
        "\"\"\""
      ]
    },
    {
      "cell_type": "code",
      "source": [
        "#initialization\n",
        "import matplotlib.pyplot as plt\n",
        "import numpy as np\n",
        "\n",
        "# importing Qiskit\n",
        "from qiskit import IBMQ, Aer, assemble, transpile\n",
        "from qiskit import QuantumCircuit, ClassicalRegister, QuantumRegister\n",
        "from qiskit.providers.ibmq import least_busy\n",
        "from qiskit.tools.monitor import job_monitor\n",
        "\n",
        "# import basic plot tools\n",
        "from qiskit.visualization import plot_histogram"
      ],
      "metadata": {
        "id": "R1YiHOUvkfRb"
      },
      "execution_count": 3,
      "outputs": []
    },
    {
      "cell_type": "code",
      "source": [
        "#number of qubits in the circuit\n",
        "n = 2\n",
        "grover_circuit = QuantumCircuit(n)"
      ],
      "metadata": {
        "id": "ejVepZzWkonb"
      },
      "execution_count": 4,
      "outputs": []
    },
    {
      "cell_type": "code",
      "source": [
        "def initialize_s(qc, qubits):\n",
        "  \"\"\"Apply an H gate to qubits in qc\"\"\"\n",
        "  for q in qubits:\n",
        "    qc.h(q)\n",
        "  return qc"
      ],
      "metadata": {
        "id": "_nDbcHIbk4Yn"
      },
      "execution_count": 5,
      "outputs": []
    },
    {
      "cell_type": "code",
      "source": [
        "grover_circuit = initialize_s(grover_circuit, [0, 1])\n",
        "grover_circuit.draw()"
      ],
      "metadata": {
        "id": "haYg4A4mlcgb",
        "colab": {
          "base_uri": "https://localhost:8080/",
          "height": 94
        },
        "outputId": "ad201cc4-b821-4149-8ab7-d1927828950d"
      },
      "execution_count": 6,
      "outputs": [
        {
          "output_type": "execute_result",
          "data": {
            "text/plain": [
              "     ┌───┐\n",
              "q_0: ┤ H ├\n",
              "     ├───┤\n",
              "q_1: ┤ H ├\n",
              "     └───┘"
            ],
            "text/html": [
              "<pre style=\"word-wrap: normal;white-space: pre;background: #fff0;line-height: 1.1;font-family: &quot;Courier New&quot;,Courier,monospace\">     ┌───┐\n",
              "q_0: ┤ H ├\n",
              "     ├───┤\n",
              "q_1: ┤ H ├\n",
              "     └───┘</pre>"
            ]
          },
          "metadata": {},
          "execution_count": 6
        }
      ]
    },
    {
      "cell_type": "code",
      "source": [
        "grover_circuit.cz(0,1) # Oracle\n",
        "grover_circuit.draw()"
      ],
      "metadata": {
        "id": "a1dXAYXFmEzG",
        "colab": {
          "base_uri": "https://localhost:8080/",
          "height": 94
        },
        "outputId": "689f8d73-a00e-484c-c0e1-7b243aca665d"
      },
      "execution_count": 7,
      "outputs": [
        {
          "output_type": "execute_result",
          "data": {
            "text/plain": [
              "     ┌───┐   \n",
              "q_0: ┤ H ├─■─\n",
              "     ├───┤ │ \n",
              "q_1: ┤ H ├─■─\n",
              "     └───┘   "
            ],
            "text/html": [
              "<pre style=\"word-wrap: normal;white-space: pre;background: #fff0;line-height: 1.1;font-family: &quot;Courier New&quot;,Courier,monospace\">     ┌───┐   \n",
              "q_0: ┤ H ├─■─\n",
              "     ├───┤ │ \n",
              "q_1: ┤ H ├─■─\n",
              "     └───┘   </pre>"
            ]
          },
          "metadata": {},
          "execution_count": 7
        }
      ]
    },
    {
      "cell_type": "code",
      "source": [
        "#Diffusion operator (U_s)\n",
        "grover_circuit.h([0, 1])\n",
        "grover_circuit.z([0, 1])\n",
        "grover_circuit.cz(0, 1)\n",
        "grover_circuit.h([0, 1])\n",
        "grover_circuit.draw()"
      ],
      "metadata": {
        "id": "b5nbSb_1mN7h",
        "colab": {
          "base_uri": "https://localhost:8080/",
          "height": 94
        },
        "outputId": "4bfd4800-eeff-4764-d627-1e80af0e684a"
      },
      "execution_count": 8,
      "outputs": [
        {
          "output_type": "execute_result",
          "data": {
            "text/plain": [
              "     ┌───┐   ┌───┐┌───┐   ┌───┐\n",
              "q_0: ┤ H ├─■─┤ H ├┤ Z ├─■─┤ H ├\n",
              "     ├───┤ │ ├───┤├───┤ │ ├───┤\n",
              "q_1: ┤ H ├─■─┤ H ├┤ Z ├─■─┤ H ├\n",
              "     └───┘   └───┘└───┘   └───┘"
            ],
            "text/html": [
              "<pre style=\"word-wrap: normal;white-space: pre;background: #fff0;line-height: 1.1;font-family: &quot;Courier New&quot;,Courier,monospace\">     ┌───┐   ┌───┐┌───┐   ┌───┐\n",
              "q_0: ┤ H ├─■─┤ H ├┤ Z ├─■─┤ H ├\n",
              "     ├───┤ │ ├───┤├───┤ │ ├───┤\n",
              "q_1: ┤ H ├─■─┤ H ├┤ Z ├─■─┤ H ├\n",
              "     └───┘   └───┘└───┘   └───┘</pre>"
            ]
          },
          "metadata": {},
          "execution_count": 8
        }
      ]
    },
    {
      "cell_type": "code",
      "source": [
        "#Running on simulator\n",
        "\n",
        "#Obtain simulator object\n",
        "sim = Aer.get_backend('aer_simulator')\n",
        "\n",
        "#we need to make a copy of the circuit with 'save_statevector'\n",
        "#instruction to run the Aer simulator\n",
        "grover_circuit_sim = grover_circuit.copy()\n",
        "\n",
        "grover_circuit_sim.save_statevector()\n",
        "\n",
        "qobj = assemble(grover_circuit_sim)\n",
        "\n",
        "result = sim.run(qobj).result()\n",
        "\n",
        "statevec = result.get_statevector()"
      ],
      "metadata": {
        "id": "qQWwdZSAnGvK"
      },
      "execution_count": 9,
      "outputs": []
    },
    {
      "cell_type": "code",
      "source": [
        "#measure all qubits\n",
        "grover_circuit.measure_all()\n",
        "\n",
        "aer_sim = Aer.get_backend('aer_simulator')\n",
        "qobj = assemble(grover_circuit)\n",
        "result = aer_sim.run(qobj).result()\n",
        "counts = result.get_counts()\n",
        "\n",
        "#PLot histogram of all states\n",
        "plot_histogram(counts)"
      ],
      "metadata": {
        "id": "w-81tCNUovrt",
        "colab": {
          "base_uri": "https://localhost:8080/",
          "height": 331
        },
        "outputId": "1b1a4412-5bcc-4d0f-8408-bbac8f0dc48a"
      },
      "execution_count": 10,
      "outputs": [
        {
          "output_type": "execute_result",
          "data": {
            "text/plain": [
              "<Figure size 504x360 with 1 Axes>"
            ],
            "image/png": "[encoded data removed]"
          },
          "metadata": {},
          "execution_count": 10
        }
      ]
    },
    {
      "cell_type": "code",
      "source": [
        "#Running on real device\n",
        "\n",
        "# Load IBM Q account and get the least busy backend device\n",
        "\n",
        "token = 'db03f58cc9cf2e79a1511ba83d4055ca75ef81ac43db9b3f356f76e15677c1261f15787a2abea299dbc42614fdfd937e6afa69922349ccfd5df68ac4bb2cc159'\n",
        "IBMQ.save_account(token)\n",
        "provider = IBMQ.load_account()\n",
        "provider = IBMQ.get_provider(\"ibm-q\")\n",
        "device = least_busy(provider.backends(filters=lambda x: x.configuration().n_qubits >= 3 and \n",
        "                                   not x.configuration().simulator and x.status().operational==True))\n",
        "\n",
        "print(\"Running on current least busy device: \", device)"
      ],
      "metadata": {
        "id": "2so_a0WLq7S6",
        "colab": {
          "base_uri": "https://localhost:8080/"
        },
        "outputId": "1a28065e-8955-4e96-fa7a-738423a5d3bc"
      },
      "execution_count": 11,
      "outputs": [
        {
          "output_type": "stream",
          "name": "stderr",
          "text": [
            "configrc.store_credentials:WARNING:2022-04-07 11:11:19,414: Credentials already present. Set overwrite=True to overwrite.\n"
          ]
        },
        {
          "output_type": "stream",
          "name": "stdout",
          "text": [
            "Running on current least busy device:  ibmq_santiago\n"
          ]
        }
      ]
    },
    {
      "cell_type": "code",
      "source": [
        "# Run our circuit on the least busy backend. Monitor the execution of the job in the queue\n",
        "\n",
        "transpiled_grover_circuit = transpile(grover_circuit, device, optimization_level=3)\n",
        "job = device.run(transpiled_grover_circuit)\n",
        "job_monitor(job, interval=2)"
      ],
      "metadata": {
        "colab": {
          "base_uri": "https://localhost:8080/"
        },
        "id": "ibqA4MtLsC1n",
        "outputId": "d4cc72f1-a1b0-4606-90bb-5641e2c84b0f"
      },
      "execution_count": 12,
      "outputs": [
        {
          "output_type": "stream",
          "name": "stdout",
          "text": [
            "Job Status: job has successfully run\n"
          ]
        }
      ]
    },
    {
      "cell_type": "code",
      "source": [
        "# Get the results from the computation\n",
        "results = job.result()\n",
        "answer = results.get_counts(grover_circuit)\n",
        "plot_histogram(answer)"
      ],
      "metadata": {
        "id": "uapf-QsAsRpp",
        "colab": {
          "base_uri": "https://localhost:8080/",
          "height": 331
        },
        "outputId": "1a7e1660-dec3-425f-fd9b-038f8fe94351"
      },
      "execution_count": 13,
      "outputs": [
        {
          "output_type": "execute_result",
          "data": {
            "text/plain": [
              "<Figure size 504x360 with 1 Axes>"
            ],
            "image/png": "[encoded data removed]"
          },
          "metadata": {},
          "execution_count": 13
        }
      ]
    }
  ]
}