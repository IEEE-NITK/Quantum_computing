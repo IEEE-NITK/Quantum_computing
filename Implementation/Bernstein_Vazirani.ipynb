{
  "nbformat": 4,
  "nbformat_minor": 0,
  "metadata": {
    "colab": {
      "name": "Bernstein_Vazirani.ipynb",
      "provenance": [],
      "collapsed_sections": []
    },
    "kernelspec": {
      "name": "python3",
      "display_name": "Python 3"
    },
    "language_info": {
      "name": "python"
    }
  },
  "cells": [
    {
      "cell_type": "code",
      "execution_count": null,
      "metadata": {
        "id": "bGZlbQabOnOe"
      },
      "outputs": [],
      "source": [
        "# An implementation of the Bernstein Vazirani algorithm"
      ]
    },
    {
      "cell_type": "code",
      "source": [
        "#Importing essential libraries\n",
        "import matplotlib.pyplot as plt\n",
        "import numpy as np\n",
        "\n",
        "#Importing Qiskit libraries\n",
        "from qiskit import IBMQ, Aer\n",
        "from qiskit.providers.ibmq import least_busy\n",
        "from qiskit import QuantumCircuit, ClassicalRegister, QuantumRegister, transpile, assemble\n",
        "\n",
        "#Importing basic plotting tools\n",
        "from qiskit.visualization import plot_histogram "
      ],
      "metadata": {
        "id": "q0sLB3d-O8ke"
      },
      "execution_count": null,
      "outputs": []
    },
    {
      "cell_type": "code",
      "source": [
        "#Number of qubits\n",
        "n = 3\n",
        "s = '011' #Hidden binary string"
      ],
      "metadata": {
        "id": "E8u6LWf5RdpB"
      },
      "execution_count": null,
      "outputs": []
    },
    {
      "cell_type": "code",
      "source": [
        "#A circuit with n qubits is needed. One auxilliary qubit also needed\n",
        "#n classical bits also needed to write the output to\n",
        "bv_circuit = QuantumCircuit(n + 1, n)\n",
        "\n",
        "#Set the auxilliary qubit to state <-|\n",
        "bv_circuit.h(n)\n",
        "bv_circuit.z(n)\n",
        "\n",
        "#Apply hadamard gates before querying the oracle\n",
        "for i in range(n):\n",
        "  bv_circuit.h(i)\n",
        "\n",
        "#Apply barrier\n",
        "bv_circuit.barrier()\n",
        "\n",
        "#Applying inner product oracle\n",
        "s = s[::-1] #reverse s to fit qiskit's qubit ordering\n",
        "\n",
        "for q in range(n):\n",
        "  if s[q] == '0':\n",
        "    bv_circuit.i(q)\n",
        "  else:\n",
        "    bv_circuit.cx(q, n)\n",
        "\n",
        "#Apply barrier\n",
        "bv_circuit.barrier()\n",
        "\n",
        "#Apply hadamard gates after querying the oracle\n",
        "for i in range(n):\n",
        "  bv_circuit.h(i)\n",
        "\n",
        "#Measurement\n",
        "for i in range(n):\n",
        "  bv_circuit.measure(i, i)\n",
        "\n",
        "#Draw the circuit\n",
        "bv_circuit.draw()"
      ],
      "metadata": {
        "colab": {
          "base_uri": "https://localhost:8080/",
          "height": 186
        },
        "id": "Uj-bsCKTTOeg",
        "outputId": "46830c0e-4b33-4cd8-f72f-da245e14595a"
      },
      "execution_count": null,
      "outputs": [
        {
          "output_type": "execute_result",
          "data": {
            "text/plain": [
              "     ┌───┐      ░                 ░ ┌───┐┌─┐      \n",
              "q_0: ┤ H ├──────░───■─────────────░─┤ H ├┤M├──────\n",
              "     ├───┤      ░   │             ░ ├───┤└╥┘┌─┐   \n",
              "q_1: ┤ H ├──────░───┼─────────■───░─┤ H ├─╫─┤M├───\n",
              "     ├───┤      ░   │  ┌───┐  │   ░ ├───┤ ║ └╥┘┌─┐\n",
              "q_2: ┤ H ├──────░───┼──┤ I ├──┼───░─┤ H ├─╫──╫─┤M├\n",
              "     ├───┤┌───┐ ░ ┌─┴─┐└───┘┌─┴─┐ ░ └───┘ ║  ║ └╥┘\n",
              "q_3: ┤ H ├┤ Z ├─░─┤ X ├─────┤ X ├─░───────╫──╫──╫─\n",
              "     └───┘└───┘ ░ └───┘     └───┘ ░       ║  ║  ║ \n",
              "c: 3/═════════════════════════════════════╩══╩══╩═\n",
              "                                          0  1  2 "
            ],
            "text/html": [
              "<pre style=\"word-wrap: normal;white-space: pre;background: #fff0;line-height: 1.1;font-family: &quot;Courier New&quot;,Courier,monospace\">     ┌───┐      ░                 ░ ┌───┐┌─┐      \n",
              "q_0: ┤ H ├──────░───■─────────────░─┤ H ├┤M├──────\n",
              "     ├───┤      ░   │             ░ ├───┤└╥┘┌─┐   \n",
              "q_1: ┤ H ├──────░───┼─────────■───░─┤ H ├─╫─┤M├───\n",
              "     ├───┤      ░   │  ┌───┐  │   ░ ├───┤ ║ └╥┘┌─┐\n",
              "q_2: ┤ H ├──────░───┼──┤ I ├──┼───░─┤ H ├─╫──╫─┤M├\n",
              "     ├───┤┌───┐ ░ ┌─┴─┐└───┘┌─┴─┐ ░ └───┘ ║  ║ └╥┘\n",
              "q_3: ┤ H ├┤ Z ├─░─┤ X ├─────┤ X ├─░───────╫──╫──╫─\n",
              "     └───┘└───┘ ░ └───┘     └───┘ ░       ║  ║  ║ \n",
              "c: 3/═════════════════════════════════════╩══╩══╩═\n",
              "                                          0  1  2 </pre>"
            ]
          },
          "metadata": {},
          "execution_count": 11
        }
      ]
    },
    {
      "cell_type": "code",
      "source": [
        "#Running the code on simulator\n",
        "aer_sim = Aer.get_backend('aer_simulator')\n",
        "shots = 1024\n",
        "qobj = assemble(bv_circuit)\n",
        "results = aer_sim.run(qobj).result()\n",
        "answer = results.get_counts()\n",
        "\n",
        "#PLot histogram\n",
        "plot_histogram(answer)"
      ],
      "metadata": {
        "colab": {
          "base_uri": "https://localhost:8080/",
          "height": 339
        },
        "id": "8lvJeLtvWV8D",
        "outputId": "169687dc-283e-4fa7-b028-8acf1de4ed4d"
      },
      "execution_count": null,
      "outputs": [
        {
          "output_type": "execute_result",
          "data": {
            "text/plain": [
              "<Figure size 504x360 with 1 Axes>"
            ],
            "image/png": "[encoded data removed]"
          },
          "metadata": {},
          "execution_count": 12
        }
      ]
    },
    {
      "cell_type": "code",
      "source": [
        "#Running the code on real device\n",
        "token = 'db03f58cc9cf2e79a1511ba83d4055ca75ef81ac43db9b3f356f76e15677c1261f15787a2abea299dbc42614fdfd937e6afa69922349ccfd5df68ac4bb2cc159'\n",
        "IBMQ.save_account(token)\n",
        "IBMQ.load_account()\n",
        "provider = IBMQ.get_provider(hub = 'ibm-q')\n",
        "provider.backends()\n",
        "backend = least_busy(provider.backends(filters=lambda x: x.configuration().n_qubits <= 5 and\n",
        "                                   x.configuration().n_qubits >= 2 and\n",
        "                                   not x.configuration().simulator and x.status().operational==True))\n",
        "\n",
        "print(\"least busy backend: \", backend)"
      ],
      "metadata": {
        "colab": {
          "base_uri": "https://localhost:8080/"
        },
        "id": "99SLzTDiZ4CZ",
        "outputId": "d67d4fe0-c08a-4f85-bd50-8701bb1c2c73"
      },
      "execution_count": null,
      "outputs": [
        {
          "output_type": "stream",
          "name": "stderr",
          "text": [
            "configrc.store_credentials:WARNING:2022-04-07 10:02:37,559: Credentials already present. Set overwrite=True to overwrite.\n",
            "ibmqfactory.load_account:WARNING:2022-04-07 10:02:38,221: Credentials are already in use. The existing account in the session will be replaced.\n"
          ]
        },
        {
          "output_type": "stream",
          "name": "stdout",
          "text": [
            "least busy backend:  ibmq_quito\n"
          ]
        }
      ]
    },
    {
      "cell_type": "code",
      "source": [
        "#Running the circuit on the least busy backend. Monitor the execution of the job in the queue\n",
        "from qiskit.tools.monitor import job_monitor\n",
        "\n",
        "shots = 1024\n",
        "transpiled_bv_circuit = transpile(bv_circuit, backend)\n",
        "job = backend.run(transpiled_bv_circuit, shots = shots)\n",
        "\n",
        "job_monitor(job, interval = 2)"
      ],
      "metadata": {
        "colab": {
          "base_uri": "https://localhost:8080/"
        },
        "id": "UHQy1BheeskS",
        "outputId": "f5de977b-922d-43c6-d1d0-016f112d0e6e"
      },
      "execution_count": null,
      "outputs": [
        {
          "output_type": "stream",
          "name": "stdout",
          "text": [
            "Job Status: job has successfully run\n"
          ]
        }
      ]
    },
    {
      "cell_type": "code",
      "source": [
        "#Get the results from the computation\n",
        "results = job.result()\n",
        "answer = results.get_counts()\n",
        "\n",
        "plot_histogram(answer)"
      ],
      "metadata": {
        "id": "hrmrSDR9ftuv"
      },
      "execution_count": null,
      "outputs": []
    }
  ]
}