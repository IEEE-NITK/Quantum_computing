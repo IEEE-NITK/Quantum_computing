{
  "nbformat": 4,
  "nbformat_minor": 0,
  "metadata": {
    "colab": {
      "name": "test.ipynp",
      "provenance": []
    },
    "kernelspec": {
      "name": "python3",
      "display_name": "Python 3"
    },
    "language_info": {
      "name": "python"
    }
  },
  "cells": [
    {
      "cell_type": "code",
      "execution_count": null,
      "metadata": {
        "id": "MCvDpdIfH-FZ"
      },
      "outputs": [],
      "source": [
        "from algorithms import *\n",
        "\n",
        "deuJoz.sim(3, \"b\") #Simulates a three bit number and a balanced function using the qasm_simulator\n",
        "\n",
        "deuJoz.run(3,\"b\", device='ibmq_16_melbourne', plotTool='mpl', shots=1000) #Runs the algorithm above but on the ibmq_16_mealbourne quantum computer with 1000 shots\n",
        "\n",
        "berVaz.sim('10011') #Runs the Bernstein-Vazarani algorithm on input '1011' using the qasm_simulator\n",
        "\n",
        "berVaz.run('1001', device='ibmq_16_mealbourne') #Runs the Bernstein Vazarani algorithm for the number '1001' on the ibmq_16_mealbourne quantum computer."
      ]
    }
  ]
}